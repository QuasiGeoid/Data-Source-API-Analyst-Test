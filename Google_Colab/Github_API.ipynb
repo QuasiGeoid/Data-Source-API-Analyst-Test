{
 "cells": [
  {
   "cell_type": "markdown",
   "metadata": {
    "id": "e7E4ROeWGBrH"
   },
   "source": [
    "#API Configuration"
   ]
  },
  {
   "cell_type": "markdown",
   "metadata": {
    "id": "s4bABATRlSTr"
   },
   "source": [
    "##API base *URL*, *access* token, and any required headers."
   ]
  },
  {
   "cell_type": "code",
   "execution_count": 3,
   "metadata": {
    "executionInfo": {
     "elapsed": 3284,
     "status": "ok",
     "timestamp": 1732989809825,
     "user": {
      "displayName": "Aleksei Glavinskii",
      "userId": "02332431556512603011"
     },
     "user_tz": -180
    },
    "id": "ePxJcC0Ep3kO"
   },
   "outputs": [],
   "source": [
    "import requests\n",
    "import json\n",
    "from google.colab import userdata\n",
    "\n",
    "BASE_URL = \"https://api.github.com/\"\n",
    "\n",
    "ACCESS_TOKEN = userdata.get(\"ACCESS_TOKEN\")\n",
    "\n",
    "ACCEPT_HEADER_DEFAULT = \"application/vnd.github+json\"\n",
    "ACCEPT_HEADER_TEXT_MATCH = \"application/vnd.github.text-match+json\"\n",
    "\n",
    "HEADERS = {\n",
    "    \"Authorization\": f\"Bearer {ACCESS_TOKEN}\",\n",
    "    \"Accept\": ACCEPT_HEADER_DEFAULT,\n",
    "}\n",
    "\n",
    "def print_response(response):\n",
    "  if response.status_code == 200:\n",
    "    print(\"Success\")\n",
    "  else:\n",
    "    print(f\"Error: {response.status_code}\")\n",
    "\n",
    "  print(f\"Response Headers:\\n{json.dumps(dict(response.headers), indent=2)}\")\n",
    "  print()\n",
    "  print(f\"Response Body:\\n{json.dumps(response.json(), indent=2)}\")"
   ]
  },
  {
   "cell_type": "markdown",
   "metadata": {
    "id": "NN3X-PvSvNgX"
   },
   "source": [
    "##Handling Rate Limit"
   ]
  },
  {
   "cell_type": "code",
   "execution_count": 4,
   "metadata": {
    "executionInfo": {
     "elapsed": 17,
     "status": "ok",
     "timestamp": 1732989809826,
     "user": {
      "displayName": "Aleksei Glavinskii",
      "userId": "02332431556512603011"
     },
     "user_tz": -180
    },
    "id": "vtU_o2ZXvQhf"
   },
   "outputs": [],
   "source": [
    "import time\n",
    "\n",
    "def get_remaining_rate_limit(headers: dict) -> int:\n",
    "  \"\"\"\n",
    "  Extract the remaining rate limit from headers.\n",
    "\n",
    "  Args:\n",
    "    headers (dict): The response headers containing rate-limit information.\n",
    "\n",
    "  Returns:\n",
    "    int: The number of remaining requests.\n",
    "  \"\"\"\n",
    "  return int(headers.get(\"X-RateLimit-Remaining\", 1))\n",
    "\n",
    "def is_rate_limit_exceeded(status_code: int, headers: dict) -> bool:\n",
    "  \"\"\"\n",
    "  Check if the rate limit has been exceeded.\n",
    "\n",
    "  Args:\n",
    "    status_code (int): The HTTP status code from the response.\n",
    "    headers (dict): The response headers containing rate-limit information.\n",
    "\n",
    "  Returns:\n",
    "    bool: True if the rate limit is exceeded, False otherwise.\n",
    "  \"\"\"\n",
    "  remaining = get_remaining_rate_limit(headers)\n",
    "  return status_code in (403, 429) and remaining == 0\n",
    "\n",
    "def handle_rate_limit(headers: dict) -> None:\n",
    "  \"\"\"\n",
    "  Handle the rate limit by checking the remaining requests and pausing if needed.\n",
    "\n",
    "  Args:\n",
    "    headers (dict): The response headers containing rate-limit information.\n",
    "  \"\"\"\n",
    "  remaining = get_remaining_rate_limit(headers)\n",
    "  reset_timestamp = int(headers.get(\"X-RateLimit-Reset\", time.time()))\n",
    "\n",
    "  if remaining == 0:\n",
    "    reset_time = max(reset_timestamp - time.time(), 0)\n",
    "    print(f\"Rate limit reached. Sleeping for {reset_time:.2f} seconds.\")\n",
    "    time.sleep(reset_time + 5)  # Add a small buffer before resuming"
   ]
  },
  {
   "cell_type": "markdown",
   "metadata": {
    "id": "pd7znhVaoOVO"
   },
   "source": [
    "##Handling Pagination"
   ]
  },
  {
   "cell_type": "code",
   "execution_count": 5,
   "metadata": {
    "executionInfo": {
     "elapsed": 15,
     "status": "ok",
     "timestamp": 1732989809826,
     "user": {
      "displayName": "Aleksei Glavinskii",
      "userId": "02332431556512603011"
     },
     "user_tz": -180
    },
    "id": "SaZnGnJaoTzo"
   },
   "outputs": [],
   "source": [
    "def next_page_exists(headers: dict) -> bool:\n",
    "  \"\"\"\n",
    "  Check if there is a next page in the 'Link' header.\n",
    "\n",
    "  Args:\n",
    "    headers (dict): The response headers.\n",
    "\n",
    "  Returns:\n",
    "    bool: True if a next page exists, False otherwise.\n",
    "  \"\"\"\n",
    "  if \"Link\" in headers:\n",
    "    links = headers[\"Link\"].split(\",\")\n",
    "    return any('rel=\"next\"' in link for link in links)\n",
    "  return False\n",
    "\n",
    "def fetch_all_data(\n",
    "    url: str,\n",
    "    headers: dict,\n",
    "    params: dict,\n",
    "    data_field_name: str = None,\n",
    ") -> dict | list:\n",
    "  \"\"\"\n",
    "  Fetch all data from a paginated API endpoint.\n",
    "\n",
    "  Args:\n",
    "    url (str): The API endpoint URL.\n",
    "    headers (dict): Headers for the request.\n",
    "    params (dict): Query parameters for the request.\n",
    "    data_field_name (str): Optional. The field name in the response JSON to aggregate data.\n",
    "\n",
    "  Returns:\n",
    "    dict | list: The aggregated data from all pages, either as a dictionary or list.\n",
    "  \"\"\"\n",
    "  all_data = []\n",
    "\n",
    "  while True:\n",
    "    params[\"page\"] = params.get(\"page\", 1)\n",
    "\n",
    "    response = requests.get(url, headers=headers, params=params)\n",
    "\n",
    "    if is_rate_limit_exceeded(response.status_code, response.headers):\n",
    "      handle_rate_limit(response.headers)\n",
    "      continue\n",
    "\n",
    "    response_data = response.json()\n",
    "\n",
    "    if response.status_code == 200:\n",
    "      if data_field_name:\n",
    "        all_data.extend(response_data.get(data_field_name, []))\n",
    "      else:\n",
    "        all_data.extend(response_data if isinstance(response_data, list) else [response_data])\n",
    "\n",
    "      if next_page_exists(response.headers):\n",
    "        params[\"page\"] += 1\n",
    "      else:\n",
    "        break\n",
    "    else:\n",
    "      print(f\"Error: {response.status_code} - {response.text}\")\n",
    "      break\n",
    "\n",
    "  return all_data"
   ]
  },
  {
   "cell_type": "markdown",
   "metadata": {
    "id": "C_d6JzFMI067"
   },
   "source": [
    "#Search Repositories"
   ]
  },
  {
   "cell_type": "code",
   "execution_count": 6,
   "metadata": {
    "executionInfo": {
     "elapsed": 15,
     "status": "ok",
     "timestamp": 1732989809827,
     "user": {
      "displayName": "Aleksei Glavinskii",
      "userId": "02332431556512603011"
     },
     "user_tz": -180
    },
    "id": "SoDtJ_Hodyag"
   },
   "outputs": [],
   "source": [
    "SEARCH_REPOSITORIES_PATH = \"search/repositories\"\n",
    "SEARCH_REPOSITORIES_URL = BASE_URL + SEARCH_REPOSITORIES_PATH"
   ]
  },
  {
   "cell_type": "markdown",
   "metadata": {
    "id": "BloHhL_kdb42"
   },
   "source": [
    "##Headers\n",
    "\n",
    "| Name     | Type   | Description|\n",
    "|----------|--------|-------------------------------------------------------------------------------------------------------------------|\n",
    "| `accept` | string | `application/vnd.github+json` - is recommended.<br>`application/vnd.github.text-match+json` - when searching for repositories, you can get text match metadata for the name and description fields when you pass the text-match media type. For more details about how to receive highlighted search results, see [Text match metadata](https://docs.github.com/rest/search/search#text-match-metadata).|"
   ]
  },
  {
   "cell_type": "markdown",
   "metadata": {
    "id": "4UTTqSLjVY9C"
   },
   "source": [
    "##Query Parameters\n",
    "| Name       | Type      | Description|\n",
    "|------------|-----------|--------------------------------------------------------------------------------------------------------------|\n",
    "| `q`        | string    | **Required.** The query contains one or more search keywords and qualifiers. Qualifiers allow you to limit your search to specific areas of GitHub. The REST API supports the same qualifiers as the web interface for GitHub.<br>To learn more about the format of the query, see [Constructing a search query](https://docs.github.com/en/github/searching-for-information-on-github/constructing-a-search-query). See [Searching for repositories](https://docs.github.com/en/search-github/searching-on-github/searching-for-repositories) for a detailed list of qualifiers.                                                                   |\n",
    "| `sort`     | string    | Sorts the results of your query by number of stars, forks, help-wanted-issues, or how recently the items were updated.<br>**Default:** `best match`<br>**Can be one of:** `stars`, `forks`, `help-wanted-issues`, `updated`                           |\n",
    "| `order`    | string    | Determines whether the first search result returned is the highest number of matches (`desc`) or lowest number of matches (`asc`).<br>This parameter is ignored unless you provide `sort`.<br>**Default:** `desc`<br>**Can be one of:** `desc`, `asc`                                                                                                                                   |\n",
    "| `per_page` | integer   | The number of results per page (**max 100**).<br>For more information, see [\"Using pagination in the REST API\"](https://docs.github.com/rest/guides/using-pagination-in-the-rest-api).<br>**Default:** `30`                                            |\n",
    "| `page`     | integer   | The page number of the results to fetch.<br>For more information, see [\"Using pagination in the REST API\"](https://docs.github.com/rest/guides/using-pagination-in-the-rest-api).<br>**Default:** `1`                                             |\n"
   ]
  },
  {
   "cell_type": "code",
   "execution_count": 7,
   "metadata": {
    "executionInfo": {
     "elapsed": 14,
     "status": "ok",
     "timestamp": 1732989809828,
     "user": {
      "displayName": "Aleksei Glavinskii",
      "userId": "02332431556512603011"
     },
     "user_tz": -180
    },
    "id": "IjRk9c3EJp8H"
   },
   "outputs": [],
   "source": [
    "OPTIONS_SORT = [\"stars\", \"help-wanted-issues\", \"forks\", \"updated\"]\n",
    "OPTIONS_ORDER = [\"desc\", \"asc\"]\n",
    "\n",
    "params = {\n",
    "    \"q\": \"machine learning\",\n",
    "    \"sort\": OPTIONS_SORT[0],\n",
    "    \"order\": OPTIONS_ORDER[0],\n",
    "    \"per_page\": 100,\n",
    "    \"page\": 1,\n",
    "}"
   ]
  },
  {
   "cell_type": "markdown",
   "metadata": {
    "id": "QPh2oURed5QB"
   },
   "source": [
    "##API Requests"
   ]
  },
  {
   "cell_type": "markdown",
   "metadata": {
    "id": "wdp4VrAdMDOV"
   },
   "source": [
    "###Single request"
   ]
  },
  {
   "cell_type": "code",
   "execution_count": null,
   "metadata": {
    "colab": {
     "base_uri": "https://localhost:8080/"
    },
    "collapsed": true,
    "executionInfo": {
     "elapsed": 3118,
     "status": "ok",
     "timestamp": 1732989812934,
     "user": {
      "displayName": "Aleksei Glavinskii",
      "userId": "02332431556512603011"
     },
     "user_tz": -180
    },
    "id": "f655UZX8eLUb",
    "outputId": "402b76f4-eb4b-4459-cd56-52a7a6c23dd0"
   },
   "outputs": [],
   "source": [
    "response = requests.get(SEARCH_REPOSITORIES_URL, headers = HEADERS, params = params)\n",
    "print_response(response)"
   ]
  },
  {
   "cell_type": "markdown",
   "metadata": {
    "id": "MbgZlLIBMJbX"
   },
   "source": [
    "###Extract All Repositories (up to 1000)"
   ]
  },
  {
   "cell_type": "code",
   "execution_count": null,
   "metadata": {
    "colab": {
     "base_uri": "https://localhost:8080/",
     "output_embedded_package_id": "1Ga_AQiy-EBjuDzy5wcYlWwY18rg4ZBfl"
    },
    "executionInfo": {
     "elapsed": 33938,
     "status": "ok",
     "timestamp": 1732989846869,
     "user": {
      "displayName": "Aleksei Glavinskii",
      "userId": "02332431556512603011"
     },
     "user_tz": -180
    },
    "id": "gvU8wjy1MY6i",
    "outputId": "ac1d5d00-8033-4b39-9794-8c1b1cbfc44d"
   },
   "outputs": [],
   "source": [
    "all_repositories = fetch_all_data(SEARCH_REPOSITORIES_URL, headers = HEADERS, params = params, data_field_name=\"items\")\n",
    "print(f\"All Repositories:\\n{json.dumps(all_repositories, indent=2)}\")"
   ]
  },
  {
   "cell_type": "markdown",
   "metadata": {
    "id": "b5iPdyEcqLo-"
   },
   "source": [
    "#List commits"
   ]
  },
  {
   "cell_type": "code",
   "execution_count": 10,
   "metadata": {
    "executionInfo": {
     "elapsed": 2423,
     "status": "ok",
     "timestamp": 1732989846869,
     "user": {
      "displayName": "Aleksei Glavinskii",
      "userId": "02332431556512603011"
     },
     "user_tz": -180
    },
    "id": "ow1RWnmwr7XX"
   },
   "outputs": [],
   "source": [
    "def get_list_commits_path(owner: str, repo: str) -> str:\n",
    "  \"\"\"\n",
    "  Construct the API endpoint URL for retrieving a list of commits.\n",
    "\n",
    "  Args:\n",
    "    owner (str): The owner of the repository.\n",
    "    repo (str): The repository name.\n",
    "\n",
    "  Returns:\n",
    "    str: The full API URL for the commits endpoint.\n",
    "  \"\"\"\n",
    "  return f\"{BASE_URL}repos/{owner}/{repo}/commits\""
   ]
  },
  {
   "cell_type": "markdown",
   "metadata": {
    "id": "kkWPwQMFqOZi"
   },
   "source": [
    "##Headers\n",
    "\n",
    "| Name     | Type   | Description                                    |\n",
    "|----------|--------|------------------------------------------------|\n",
    "| `accept` | string | `application/vnd.github+json` - is recommended.|"
   ]
  },
  {
   "cell_type": "markdown",
   "metadata": {
    "id": "JMSYrSJMqmrD"
   },
   "source": [
    "## Path Parameters\n",
    "| Name    | Type   | Description                                               |\n",
    "|---------|--------|-----------------------------------------------------------|\n",
    "| `owner` | string | **Required**. The account owner of the repository. The name is not case sensitive.                                                    |\n",
    "| `repo`  | string | **Required**. The name of the repository without the `.git` extension. The name is not case sensitive.                                |"
   ]
  },
  {
   "cell_type": "code",
   "execution_count": 11,
   "metadata": {
    "executionInfo": {
     "elapsed": 2423,
     "status": "ok",
     "timestamp": 1732989846870,
     "user": {
      "displayName": "Aleksei Glavinskii",
      "userId": "02332431556512603011"
     },
     "user_tz": -180
    },
    "id": "TiH-q3WxAwyA"
   },
   "outputs": [],
   "source": [
    "list_commits_path = get_list_commits_path(\"qGiS\", \"QwC2\")"
   ]
  },
  {
   "cell_type": "markdown",
   "metadata": {
    "id": "PsOZa-CQq8E8"
   },
   "source": [
    "##Query Parameters\n",
    "| Name        | Type     | Description                                        |\n",
    "|-------------|----------|----------------------------------------------------|\n",
    "| `sha`       | string   | SHA or branch to start listing commits from. **Default**: the repository’s default branch (usually `main`).                |\n",
    "| `path`      | string   | Only commits containing this file path will be returned.                                                                     |\n",
    "| `author`    | string   | GitHub username or email address to use to filter by commit author.                                                                |\n",
    "| `committer` | string   | GitHub username or email address to use to filter by commit committer.                                                             |\n",
    "| `since`     | string   | Only show results that were last updated after the given time. This is a timestamp in [ISO 8601](https://en.wikipedia.org/wiki/ISO_8601) format: `YYYY-MM-DDTHH:MM:SSZ`. Due to Git limitations, timestamps must be between `1970-01-01` and `2099-12-31` (inclusive), or unexpected results may occur.                                                            |\n",
    "| `until`     | string   | Only commits before this date will be returned. This is a timestamp in [ISO 8601](https://en.wikipedia.org/wiki/ISO_8601) format: `YYYY-MM-DDTHH:MM:SSZ`. Due to Git limitations, timestamps must be between `1970-01-01` and `2099-12-31` (inclusive), or unexpected results may occur.   |\n",
    "| `per_page`  | integer  | The number of results per page (**max 100**). For more information, see [\"Using pagination in the REST API\"](https://docs.github.com/en/rest/guides/using-pagination-in-the-rest-api). **Default**: `30`.      |\n",
    "| `page`      | integer  | The page number of the results to fetch. For more information, see [\"Using pagination in the REST API\"](https://docs.github.com/en/rest/guides/using-pagination-in-the-rest-api). **Default**: `1`.           |\n"
   ]
  },
  {
   "cell_type": "code",
   "execution_count": 12,
   "metadata": {
    "executionInfo": {
     "elapsed": 2423,
     "status": "ok",
     "timestamp": 1732989846870,
     "user": {
      "displayName": "Aleksei Glavinskii",
      "userId": "02332431556512603011"
     },
     "user_tz": -180
    },
    "id": "QrcOk4bjA-TE"
   },
   "outputs": [],
   "source": [
    "params = {\n",
    "    \"sha\": \"4ad2e232866b451d341129e69b877d563228d2a6\",\n",
    "    \"path\": \".github/workflows/jest.yml\",\n",
    "    \"author\": \"BenediktSeidlSWM\",\n",
    "    \"since\": \"2024-05-31\",\n",
    "    \"until\": \"2024-10-31\",\n",
    "    \"per_page\": 100,\n",
    "    \"page\": 1,\n",
    "}"
   ]
  },
  {
   "cell_type": "markdown",
   "metadata": {
    "id": "9iXERBzvrd5y"
   },
   "source": [
    "##API Requests"
   ]
  },
  {
   "cell_type": "markdown",
   "metadata": {
    "id": "J_0MwHu7rhgj"
   },
   "source": [
    "###Single request"
   ]
  },
  {
   "cell_type": "code",
   "execution_count": null,
   "metadata": {
    "colab": {
     "base_uri": "https://localhost:8080/"
    },
    "collapsed": true,
    "executionInfo": {
     "elapsed": 2423,
     "status": "ok",
     "timestamp": 1732989846870,
     "user": {
      "displayName": "Aleksei Glavinskii",
      "userId": "02332431556512603011"
     },
     "user_tz": -180
    },
    "id": "lcGrr8MJrxd5",
    "outputId": "3283d10d-02c8-4520-a9c0-8e39dd5b4348"
   },
   "outputs": [],
   "source": [
    "response = requests.get(list_commits_path, headers = HEADERS, params = params)\n",
    "print_response(response)"
   ]
  },
  {
   "cell_type": "markdown",
   "metadata": {
    "id": "MpRN2STzHTVQ"
   },
   "source": [
    "###Extract All Commits"
   ]
  },
  {
   "cell_type": "code",
   "execution_count": null,
   "metadata": {
    "colab": {
     "background_save": true,
     "output_embedded_package_id": "1CunpeOYJ3b1fhyN9Nd1Xlvgz69x0Gnld"
    },
    "id": "WyGXPELxHV3-",
    "outputId": "f5e943ed-913c-4b79-b231-babd879e95ab"
   },
   "outputs": [],
   "source": [
    "params = {\n",
    "    \"per_page\": 100,\n",
    "    \"page\": 1,\n",
    "}\n",
    "\n",
    "all_commits = fetch_all_data(list_commits_path, headers = HEADERS, params = params)\n",
    "print(f\"All Commits:\\n{json.dumps(all_commits, indent=2)}\")"
   ]
  },
  {
   "cell_type": "markdown",
   "metadata": {
    "id": "v64dIyLCIe9B"
   },
   "source": [
    "#Get Repository Content"
   ]
  },
  {
   "cell_type": "code",
   "execution_count": null,
   "metadata": {
    "colab": {
     "background_save": true
    },
    "id": "1qISHqz4Kc0q"
   },
   "outputs": [],
   "source": [
    "def get_repository_content_path(owner: str, repo: str, path: str) -> str:\n",
    "  \"\"\"\n",
    "  Construct the API endpoint URL for retrieving the contents of a repository.\n",
    "\n",
    "  Args:\n",
    "    owner (str): The username or organization name that owns the repository.\n",
    "    repo (str): The name of the repository.\n",
    "    path (str): The file or directory path within the repository.\n",
    "\n",
    "  Returns:\n",
    "    str: The constructed URL for accessing the repository contents.\n",
    "  \"\"\"\n",
    "  return f\"{BASE_URL}/repos/{owner}/{repo}/contents/{path}\""
   ]
  },
  {
   "cell_type": "markdown",
   "metadata": {
    "id": "KKu3qe5iIj8R"
   },
   "source": [
    "##Headers\n",
    "| Name    | Type   | Description                                               |\n",
    "|---------|--------|-----------------------------------------------------------|\n",
    "| accept  | string | `application/vnd.github+json` - is recommended.<br>`application/vnd.github.raw+json` - returns the raw file contents for files and symlinks.<br>`application/vnd.github.html+json` - returns the file contents in HTML. Markup languages are rendered to HTML using GitHub's open-source Markup library.<br>`application/vnd.github.object+json` - returns the contents in a consistent object format regardless of the content type. For example, instead of an array of objects for a directory, the response will be an object with an `entries` attribute containing the array of objects.                   |\n"
   ]
  },
  {
   "cell_type": "markdown",
   "metadata": {
    "id": "zO-cT_WKJQcG"
   },
   "source": [
    "## Path Parameters\n",
    "| Name  | Type   | Description                                                 |\n",
    "|-------|--------|-------------------------------------------------------------|\n",
    "| owner | string | Required. The account owner of the repository. The name is not case sensitive.                                                            |\n",
    "| repo  | string | Required. The name of the repository without the `.git` extension. The name is not case sensitive.                                     |\n",
    "| path  | string | Required. The file path or directory in the repository.     |"
   ]
  },
  {
   "cell_type": "code",
   "execution_count": null,
   "metadata": {
    "colab": {
     "background_save": true
    },
    "id": "64KXftqTJfL4"
   },
   "outputs": [],
   "source": [
    "repository_content_path = get_repository_content_path(\"qGiS\", \"QgIs\", \"src\")"
   ]
  },
  {
   "cell_type": "markdown",
   "metadata": {
    "id": "YqEtrgAzJ7W4"
   },
   "source": [
    "##Query Parameters\n",
    "| Name  | Type   | Description                                                 |\n",
    "|-------|--------|-------------------------------------------------------------|\n",
    "| ref   | string | The name of the commit/branch/tag. Default: the repository’s default branch.                                                                |\n"
   ]
  },
  {
   "cell_type": "code",
   "execution_count": null,
   "metadata": {
    "colab": {
     "background_save": true
    },
    "id": "TgqsnXQ6KOfJ"
   },
   "outputs": [],
   "source": [
    "params = {\n",
    "    \"ref\": \"empty_interior_wkt\"\n",
    "}"
   ]
  },
  {
   "cell_type": "markdown",
   "metadata": {
    "id": "z_6aPvSUM1BM"
   },
   "source": [
    "##API Requests"
   ]
  },
  {
   "cell_type": "code",
   "execution_count": null,
   "metadata": {
    "colab": {
     "background_save": true
    },
    "id": "nnFB2AGQM24M"
   },
   "outputs": [],
   "source": [
    "response = requests.get(repository_content_path, headers = HEADERS, params = params)\n",
    "print_response(response)"
   ]
  }
 ],
 "metadata": {
  "colab": {
   "authorship_tag": "ABX9TyOaOw9HuC/md4VIGLOnd8ln",
   "name": "",
   "toc_visible": true,
   "version": ""
  },
  "kernelspec": {
   "display_name": "Python 3",
   "name": "python3"
  },
  "language_info": {
   "name": "python"
  }
 },
 "nbformat": 4,
 "nbformat_minor": 0
}
